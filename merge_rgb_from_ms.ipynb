{
 "cells": [
  {
   "cell_type": "code",
   "execution_count": 1,
   "metadata": {},
   "outputs": [
    {
     "name": "stdout",
     "output_type": "stream",
     "text": [
      "/home/nam/datasets/eurosat/data\n"
     ]
    }
   ],
   "source": [
    "%cd datasets/eurosat/data"
   ]
  },
  {
   "cell_type": "code",
   "execution_count": 2,
   "metadata": {},
   "outputs": [
    {
     "name": "stdout",
     "output_type": "stream",
     "text": [
      "{'eurosat_ms': None, 'sentinel1/2_ms': None}\n"
     ]
    }
   ],
   "source": [
    "user_list = [\"eurosat_ms\", 'sentinel1/2_ms']\n",
    "datasets_dict = dict.fromkeys(user_list)\n",
    "list_datasets_size = []\n",
    "print(datasets_dict)"
   ]
  },
  {
   "cell_type": "code",
   "execution_count": 3,
   "metadata": {},
   "outputs": [
    {
     "name": "stderr",
     "output_type": "stream",
     "text": [
      "/home/nam/.conda/envs/hf/lib/python3.9/site-packages/tqdm/auto.py:21: TqdmWarning: IProgress not found. Please update jupyter and ipywidgets. See https://ipywidgets.readthedocs.io/en/stable/user_install.html\n",
      "  from .autonotebook import tqdm as notebook_tqdm\n"
     ]
    },
    {
     "name": "stdout",
     "output_type": "stream",
     "text": [
      "eurosat_dict: DatasetDict({\n",
      "    train: Dataset({\n",
      "        features: ['image', 'label', 'filename'],\n",
      "        num_rows: 16200\n",
      "    })\n",
      "    test: Dataset({\n",
      "        features: ['image', 'label', 'filename'],\n",
      "        num_rows: 5400\n",
      "    })\n",
      "    validation: Dataset({\n",
      "        features: ['image', 'label', 'filename'],\n",
      "        num_rows: 5400\n",
      "    })\n",
      "})\n",
      "\n",
      " eurosat_list: [Dataset({\n",
      "    features: ['image', 'label', 'filename'],\n",
      "    num_rows: 16200\n",
      "}), Dataset({\n",
      "    features: ['image', 'label', 'filename'],\n",
      "    num_rows: 5400\n",
      "}), Dataset({\n",
      "    features: ['image', 'label', 'filename'],\n",
      "    num_rows: 5400\n",
      "})]\n"
     ]
    }
   ],
   "source": [
    "from datasets import load_dataset\n",
    "\n",
    "eurosat_dict = load_dataset(\"parquet\", data_files={'train': 'train-*.parquet', 'test': 'test-*.parquet', 'validation': 'validation-*.parquet'})\n",
    "print(f\"eurosat_dict: {eurosat_dict}\")\n",
    "eurosat_list = list(eurosat_dict.values())\n",
    "print(f\"\\n eurosat_list: {eurosat_list}\")"
   ]
  },
  {
   "cell_type": "code",
   "execution_count": 4,
   "metadata": {},
   "outputs": [
    {
     "name": "stdout",
     "output_type": "stream",
     "text": [
      "Dataset({\n",
      "    features: ['image', 'label', 'filename'],\n",
      "    num_rows: 16200\n",
      "})\n",
      "16200\n"
     ]
    }
   ],
   "source": [
    "eurosat_trainset_dict = eurosat_list[0]\n",
    "print(eurosat_trainset_dict)\n",
    "print(len(eurosat_trainset_dict))\n",
    "datasets_dict['eurosat_ms'] = eurosat_trainset_dict\n",
    "list_datasets_size.append(len(eurosat_trainset_dict))"
   ]
  },
  {
   "cell_type": "code",
   "execution_count": 5,
   "metadata": {},
   "outputs": [
    {
     "name": "stdout",
     "output_type": "stream",
     "text": [
      "Dataset({\n",
      "    features: ['image', 'label', 'filename'],\n",
      "    num_rows: 16\n",
      "})\n",
      "16\n"
     ]
    }
   ],
   "source": [
    "batch_eurosat_trainset_dict = eurosat_trainset_dict.select(range(100, 100 + 16))\n",
    "print(batch_eurosat_trainset_dict)\n",
    "print(len(batch_eurosat_trainset_dict))"
   ]
  },
  {
   "cell_type": "code",
   "execution_count": 7,
   "metadata": {},
   "outputs": [
    {
     "name": "stdout",
     "output_type": "stream",
     "text": [
      "Shape of batch: (16, 64, 64, 13)\n",
      "Shape of 1 multispectral sample: (64, 64, 13)\n",
      "Shape of 1 rgb sample: (64, 64, 3)\n"
     ]
    },
    {
     "data": {
      "image/png": "[encoded data removed]",
      "text/plain": [
       "<Figure size 400x400 with 1 Axes>"
      ]
     },
     "metadata": {},
     "output_type": "display_data"
    }
   ],
   "source": [
    "# batch_rgb = list(batch_eurosat_trainset_dict[key] for key in ['image', 'images', 'rgb', 'rgbs'] if key in eurosat_trainset_dict)\n",
    "import numpy as np\n",
    "import matplotlib.pyplot as plt\n",
    "\n",
    "for key in ['image', 'images', 'rgb', 'rgbs']:\n",
    "    if key in batch_eurosat_trainset_dict.column_names:\n",
    "        batch_rgb = batch_eurosat_trainset_dict[key]\n",
    "        \n",
    "np_batch_rgb = np.array(batch_rgb)\n",
    "print(\"Shape of batch:\", np_batch_rgb.shape)\n",
    "\n",
    "ms_sample = np_batch_rgb[0]\n",
    "print(\"Shape of 1 multispectral sample:\", ms_sample.shape)\n",
    "\n",
    "rgb_sample = ms_sample[:, :, 1:4]\n",
    "print(\"Shape of 1 rgb sample:\", rgb_sample.shape)\n",
    "\n",
    "\n",
    "if rgb_sample.dtype != np.uint8:\n",
    "    bands_min = rgb_sample.min()\n",
    "    bands_max = rgb_sample.max()\n",
    "    bands_norm = (rgb_sample - bands_min) / (bands_max - bands_min)\n",
    "    bands_uint8 = (bands_norm * 255).astype(np.uint8)\n",
    "else:\n",
    "    bands_uint8 = rgb_sample\n",
    "\n",
    "plt.figure(figsize=(4, 4))\n",
    "plt.imshow(bands_uint8)\n",
    "plt.axis('off')  # Turn off the axis\n",
    "plt.title(\"Extracted Bands 2, 3, 4 as RGB\")\n",
    "plt.show()"
   ]
  },
  {
   "cell_type": "code",
   "execution_count": 8,
   "metadata": {},
   "outputs": [
    {
     "name": "stdout",
     "output_type": "stream",
     "text": [
      "(32, 32, 3)\n"
     ]
    },
    {
     "data": {
      "image/png": "[encoded data removed]",
      "text/plain": [
       "<Figure size 400x400 with 1 Axes>"
      ]
     },
     "metadata": {},
     "output_type": "display_data"
    }
   ],
   "source": [
    "import matplotlib.pyplot as plt\n",
    "\n",
    "def crop_center(img,cropx,cropy):\n",
    "    y,x = img.shape[1:3]\n",
    "    startx = x//2-(cropx//2)\n",
    "    starty = y//2-(cropy//2)    \n",
    "    return img[:, starty:starty+cropy,startx:startx+cropx, ...]\n",
    "\n",
    "np_batch_rgb = crop_center(np_batch_rgb, 32, 32)\n",
    "ms_sample = np_batch_rgb[0]\n",
    "rgb_sample = ms_sample[:, :, 1:4]\n",
    "print(rgb_sample.shape)\n",
    "\n",
    "if rgb_sample.dtype != np.uint8:\n",
    "    bands_min = rgb_sample.min()\n",
    "    bands_max = rgb_sample.max()\n",
    "    bands_norm = (rgb_sample - bands_min) / (bands_max - bands_min)\n",
    "    bands_uint8 = (bands_norm * 255).astype(np.uint8)\n",
    "else:\n",
    "    bands_uint8 = rgb_sample\n",
    "\n",
    "plt.figure(figsize=(4, 4))\n",
    "plt.imshow(bands_uint8)\n",
    "plt.axis('off')  # Turn off the axis\n",
    "plt.title(\"Extracted Bands 2, 3, 4 as RGB\")\n",
    "plt.show()"
   ]
  },
  {
   "cell_type": "code",
   "execution_count": 9,
   "metadata": {},
   "outputs": [
    {
     "name": "stdout",
     "output_type": "stream",
     "text": [
      "31825\n"
     ]
    }
   ],
   "source": [
    "import os\n",
    "import glob\n",
    "from PIL import Image\n",
    "from pathlib import Path\n",
    "\n",
    "root_dir = '/home/nam/ROIs2017_winter_lc'\n",
    "ROI2017_paths = glob.glob(os.path.join(root_dir, '**', '*.tif'), recursive=True)\n",
    "ROI2017_paths = [Path(p) for p in ROI2017_paths]\n",
    "print(len(ROI2017_paths))\n",
    "datasets_dict['sentinel1/2_ms'] = ROI2017_paths\n",
    "list_datasets_size.append(len(ROI2017_paths))"
   ]
  },
  {
   "cell_type": "code",
   "execution_count": 10,
   "metadata": {},
   "outputs": [
    {
     "name": "stdout",
     "output_type": "stream",
     "text": [
      "16200\n"
     ]
    }
   ],
   "source": [
    "merged_dataset_size = min(list_datasets_size)\n",
    "print(merged_dataset_size)"
   ]
  },
  {
   "cell_type": "code",
   "execution_count": 14,
   "metadata": {},
   "outputs": [
    {
     "name": "stdout",
     "output_type": "stream",
     "text": [
      "eurosat shape before processing is (16, 64, 64, 13)\n",
      "eurosat shape after processing is (16, 64, 64, 3)\n",
      "sentinel1/2 shape before processing is (16, 256, 256, 3)\n",
      "sentinel1/2 shape after processing is (16, 64, 64, 3)\n",
      "eurosat shape before processing is (16, 64, 64, 13)\n",
      "eurosat shape after processing is (16, 64, 64, 3)\n",
      "sentinel1/2 shape before processing is (16, 256, 256, 3)\n",
      "sentinel1/2 shape after processing is (16, 64, 64, 3)\n",
      "eurosat shape before processing is (16, 64, 64, 13)\n",
      "eurosat shape after processing is (16, 64, 64, 3)\n",
      "sentinel1/2 shape before processing is (16, 256, 256, 3)\n",
      "sentinel1/2 shape after processing is (16, 64, 64, 3)\n",
      "eurosat shape before processing is (16, 64, 64, 13)\n",
      "eurosat shape after processing is (16, 64, 64, 3)\n",
      "sentinel1/2 shape before processing is (16, 256, 256, 3)\n",
      "sentinel1/2 shape after processing is (16, 64, 64, 3)\n",
      "eurosat shape before processing is (16, 64, 64, 13)\n",
      "eurosat shape after processing is (16, 64, 64, 3)\n",
      "sentinel1/2 shape before processing is (16, 256, 256, 3)\n",
      "sentinel1/2 shape after processing is (16, 64, 64, 3)\n",
      "eurosat shape before processing is (16, 64, 64, 13)\n",
      "eurosat shape after processing is (16, 64, 64, 3)\n",
      "sentinel1/2 shape before processing is (16, 256, 256, 3)\n",
      "sentinel1/2 shape after processing is (16, 64, 64, 3)\n",
      "eurosat shape before processing is (16, 64, 64, 13)\n",
      "eurosat shape after processing is (16, 64, 64, 3)\n",
      "sentinel1/2 shape before processing is (16, 256, 256, 3)\n",
      "sentinel1/2 shape after processing is (16, 64, 64, 3)\n",
      "(224, 64, 64, 3)\n"
     ]
    }
   ],
   "source": [
    "# images = test_set['image']  # dont do this, you are practically loading 5400 samples into memory\n",
    "import datasets \n",
    "import numpy as np\n",
    "from osgeo import gdal\n",
    "\n",
    "combined_batch_size = 32\n",
    "num_datasets = 2\n",
    "per_dataset_batch_size = int(combined_batch_size/num_datasets)\n",
    "\n",
    "\n",
    "combined_batch_np = np.array([[0]])\n",
    "arbiter_dataset_size = 200\n",
    "merged_H = 64\n",
    "merged_W = 64\n",
    "for i in range(0, arbiter_dataset_size, combined_batch_size):\n",
    "    for _, dataset in datasets_dict.items():\n",
    "        if isinstance(dataset, list):\n",
    "            skipped_i_list = 0\n",
    "            metadata_batch = dataset[(skipped_i_list + i):(skipped_i_list + i + per_dataset_batch_size)]\n",
    "            if isinstance(metadata_batch[0], Path):\n",
    "                # not sure if it works with .geotiff, should do\n",
    "                batch_np = np.array([[0]])\n",
    "                if metadata_batch[0].suffix.lower() in ['.tif', '.tiff', '.geotiff']:\n",
    "                    for path in metadata_batch:\n",
    "                        sample = gdal.Open(str(path)) \n",
    "                        band_arrays = []\n",
    "                        # assume rgb bands = 2,3,4\n",
    "                        for band in [2,3,4]:\n",
    "                            raster_band = sample.GetRasterBand(band)\n",
    "                            band_arrays.append(raster_band.ReadAsArray())\n",
    "                \n",
    "                        sample_np = np.stack(band_arrays, axis=-1)\n",
    "                        if sample_np.dtype != np.uint8:\n",
    "                            sample_np_temp = sample_np\n",
    "                            # return shape shape (B, 1, 1, C) that contains min, max for each channel in each sample\n",
    "                            min_vals = sample_np_temp.min(axis=(1, 2), keepdims=True)\n",
    "                            max_vals = sample_np_temp.max(axis=(1, 2), keepdims=True)\n",
    "                            \n",
    "                            ranges = max_vals - min_vals\n",
    "                            ranges[ranges == 0] = 1\n",
    "                            sample_np_temp = (sample_np_temp - min_vals) / ranges * 255\n",
    "                            sample_np = sample_np_temp.astype(np.uint8) \n",
    "                        sample_np = np.expand_dims(sample_np, axis=0)\n",
    "                        \n",
    "                        if batch_np.ndim == sample_np.ndim:\n",
    "                            batch_np = np.concatenate((batch_np, sample_np), axis=0)\n",
    "                        else:\n",
    "                            batch_np = sample_np\n",
    "                    \n",
    "                    print(f\"sentinel1/2 shape before processing is {batch_np.shape}\")\n",
    "                    H,W = batch_np.shape[1:3]\n",
    "                    if H < merged_H or W < merged_W:\n",
    "                        skipped_i_list += per_dataset_batch_size\n",
    "                        metadata_batch = dataset.select(range(skipped_i_list, skipped_i_list + per_dataset_batch_size))\n",
    "                    elif H > merged_H or W > merged_W:\n",
    "                        batch_np = crop_center(batch_np, merged_H, merged_W)\n",
    "                \n",
    "                    print(f\"sentinel1/2 shape after processing is {batch_np.shape}\")\n",
    "                            \n",
    "                            \n",
    "        elif isinstance(dataset, datasets.arrow_dataset.Dataset):\n",
    "            skipped_i_dataset = 0\n",
    "            metadata_batch = dataset.select(range(skipped_i_dataset + i, skipped_i_dataset + i + per_dataset_batch_size))\n",
    "            batch_np = np.array([[0]])\n",
    "            if (key := next(iter(set(metadata_batch.column_names) & {'rgb', 'rgbs'}), None)) is not None:\n",
    "                batch_image = metadata_batch[key]\n",
    "                # same thing as \n",
    "                '''\n",
    "                for key in ['rgb', 'rgbs']:\n",
    "                    if key in metadata_batch.column_names:\n",
    "                        batch_image = metadata_batch[key]\n",
    "\n",
    "                '''\n",
    "                batch_np = np.array(batch_image)\n",
    "                # take into account for bi-temporal images for Change Detection\n",
    "                if batch_np.ndim == 5:\n",
    "                    continue\n",
    "                H,W = batch_np.shape[1:3]\n",
    "                if H < merged_H or W < merged_W:\n",
    "                    skipped_i_dataset += per_dataset_batch_size\n",
    "                    metadata_batch = dataset.select(range(skipped_i_dataset, skipped_i_dataset + per_dataset_batch_size))\n",
    "                    batch_np = np.array(metadata_batch[key])\n",
    "                elif H > merged_H or W > merged_W:\n",
    "                    batch_np = crop_center(batch_np, merged_H, merged_W)\n",
    "                print(f\"eurosat shape is {batch_np.shape}\")\n",
    "\n",
    "                if batch_np.dtype != np.uint8:\n",
    "                    batch_np_temp = batch_np\n",
    "                    # return shape shape (B, 1, 1, C) that contains min, max for each channel in each sample\n",
    "                    min_vals = batch_np_temp.min(axis=(1, 2), keepdims=True)\n",
    "                    max_vals = batch_np_temp.max(axis=(1, 2), keepdims=True)\n",
    "                    \n",
    "                    ranges = max_vals - min_vals\n",
    "                    ranges[ranges == 0] = 1\n",
    "                    batch_np_temp = (batch_np_temp - min_vals) / ranges * 255\n",
    "                    batch_np = batch_np_temp.astype(np.uint8) \n",
    "                    \n",
    "            elif (key := next(iter(set(metadata_batch.column_names) & {'ms'}), None)) is not None:\n",
    "                batch_image = metadata_batch[key]\n",
    "                batch_np = np.array(batch_image)\n",
    "                print(f\"eurosat shape before processing is {batch_np.shape}\")\n",
    "                # take into account for bi-temporal images for Change Detection\n",
    "                if batch_np.ndim == 5:\n",
    "                    continue\n",
    "                else:\n",
    "                    H,W = batch_np.shape[1:3]\n",
    "                    if H < merged_H or W < merged_W:\n",
    "                        skipped_i_dataset += per_dataset_batch_size\n",
    "                        metadata_batch = dataset.select(range(skipped_i_dataset, skipped_i_dataset + per_dataset_batch_size))\n",
    "                        batch_np = np.array(metadata_batch[key])\n",
    "                    elif H > merged_H or W > merged_W:\n",
    "                        batch_np = crop_center(batch_np, merged_H, merged_W)\n",
    "                \n",
    "                # by default extract band 2,3,4 but will need to add if-condition to check dataset name i.e. <if dataset is 'eurosat'>\n",
    "                batch_np = batch_np[:, :, :, 1:4]\n",
    "                if batch_np.dtype != np.uint8:\n",
    "                    batch_np_temp = batch_np\n",
    "                    # return shape shape (B, 1, 1, C) that contains min, max for each channel in each sample\n",
    "                    min_vals = batch_np_temp.min(axis=(1, 2), keepdims=True)\n",
    "                    max_vals = batch_np_temp.max(axis=(1, 2), keepdims=True)\n",
    "                    \n",
    "                    ranges = max_vals - min_vals\n",
    "                    ranges[ranges == 0] = 1\n",
    "                    batch_np_temp = (batch_np_temp - min_vals) / ranges * 255\n",
    "                    batch_np = batch_np_temp.astype(np.uint8) \n",
    "               \n",
    "            elif (key := next(iter(set(metadata_batch.column_names) & {'image', 'images'}), None)) is not None:\n",
    "                batch_image = metadata_batch[key]\n",
    "                batch_np = np.array(batch_image)\n",
    "                print(f\"eurosat shape before processing is {batch_np.shape}\")\n",
    "                # take into account for bi-temporal images for Change Detection\n",
    "                if batch_np.ndim == 5:\n",
    "                    continue  \n",
    "                else:     \n",
    "                    H,W = batch_np.shape[1:3]\n",
    "                    if H < merged_H or W < merged_W:\n",
    "                        skipped_i_dataset += per_dataset_batch_size\n",
    "                        metadata_batch = dataset.select(range(skipped_i_dataset, skipped_i_dataset + per_dataset_batch_size))\n",
    "                        batch_np = np.array(metadata_batch[key])\n",
    "                    elif H > merged_H or W > merged_W:\n",
    "                        batch_np = crop_center(batch_np, merged_H, merged_W)\n",
    "                \n",
    "                # multispectral images\n",
    "                if batch_np.shape[-1] > 3:\n",
    "                    # by default extract band 2,3,4 but will need to add if-condition to check dataset name\n",
    "                    # if dataset is 'eurosat'\n",
    "                    batch_np = batch_np[:, :, :, 1:4]\n",
    " \n",
    "                elif batch_np.shape[-1] < 3:\n",
    "                    print(\"Need to look into each sample of this remote sensing dataset\")\n",
    "                    continue\n",
    "\n",
    "                \n",
    "                if batch_np.dtype != np.uint8:\n",
    "                    batch_np_temp = batch_np\n",
    "                    # return shape shape (B, 1, 1, C) that contains min, max for each channel in each sample\n",
    "                    min_vals = batch_np_temp.min(axis=(1, 2), keepdims=True)\n",
    "                    max_vals = batch_np_temp.max(axis=(1, 2), keepdims=True)\n",
    "                    \n",
    "                    ranges = max_vals - min_vals\n",
    "                    ranges[ranges == 0] = 1\n",
    "                    batch_np_temp = (batch_np_temp - min_vals) / ranges * 255\n",
    "                    batch_np = batch_np_temp.astype(np.uint8)   \n",
    "                    \n",
    "                print(f\"eurosat shape after processing is {batch_np.shape}\")\n",
    "\n",
    "        if combined_batch_np.ndim == batch_np.ndim:\n",
    "            combined_batch_np = np.concatenate((combined_batch_np, batch_np), axis=0)\n",
    "        else:\n",
    "            combined_batch_np = batch_np\n",
    "                   \n",
    "print(combined_batch_np.shape)\n"
   ]
  }
 ],
 "metadata": {
  "kernelspec": {
   "display_name": "hf",
   "language": "python",
   "name": "python3"
  },
  "language_info": {
   "codemirror_mode": {
    "name": "ipython",
    "version": 3
   },
   "file_extension": ".py",
   "mimetype": "text/x-python",
   "name": "python",
   "nbconvert_exporter": "python",
   "pygments_lexer": "ipython3",
   "version": "3.9.21"
  }
 },
 "nbformat": 4,
 "nbformat_minor": 2
}
